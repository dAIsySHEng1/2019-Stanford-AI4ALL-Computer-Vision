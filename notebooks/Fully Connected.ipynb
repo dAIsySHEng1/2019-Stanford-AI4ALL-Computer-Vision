{
 "cells": [
  {
   "cell_type": "code",
   "execution_count": 1,
   "metadata": {},
   "outputs": [
    {
     "name": "stderr",
     "output_type": "stream",
     "text": [
      "C:\\Anaconda3\\lib\\site-packages\\h5py\\__init__.py:36: FutureWarning: Conversion of the second argument of issubdtype from `float` to `np.floating` is deprecated. In future, it will be treated as `np.float64 == np.dtype(float).type`.\n",
      "  from ._conv import register_converters as _register_converters\n"
     ]
    }
   ],
   "source": [
    "import h5py\n",
    "import numpy as np\n",
    "import matplotlib.pyplot as plt\n",
    "import utils.satellite_util as ut"
   ]
  },
  {
   "cell_type": "code",
   "execution_count": 2,
   "metadata": {},
   "outputs": [
    {
     "name": "stdout",
     "output_type": "stream",
     "text": [
      "Keys: KeysView(<HDF5 file \"satellite_images.h5\" (mode r)>)\n",
      "(641, 224, 224, 3)\n"
     ]
    }
   ],
   "source": [
    "f = h5py.File('data/assorted_images/satellite_images.h5','r')\n",
    "print('Keys: %s' % f.keys())\n",
    "a_group_key = list(f.keys())[0]\n",
    "data_original = np.array(f['data'])\n",
    "labels = np.array(f['labels'])\n",
    "print(f['data'].shape)"
   ]
  },
  {
   "cell_type": "code",
   "execution_count": 3,
   "metadata": {},
   "outputs": [],
   "source": [
    "train_ratio, val_ratio = 0.9, 0.05\n",
    "X_train = data_original[:int(data_original.shape[0]*train_ratio), ...] # ... means all the other axes\n",
    "y_train = labels[:int(data_original.shape[0]*train_ratio), ...]\n",
    "\n",
    "X_val = data_original[int(data_original.shape[0]*train_ratio):int(data_original.shape[0]*(train_ratio+val_ratio)), ...]\n",
    "y_val = labels[int(data_original.shape[0]*train_ratio):int(data_original.shape[0]*(train_ratio+val_ratio)), ...]\n",
    "\n",
    "X_test = data_original[int(data_original.shape[0]*(train_ratio+val_ratio)):, ...]\n",
    "y_test = labels[int(data_original.shape[0]*(train_ratio+val_ratio)):, ...]"
   ]
  },
  {
   "cell_type": "code",
   "execution_count": 4,
   "metadata": {},
   "outputs": [
    {
     "name": "stderr",
     "output_type": "stream",
     "text": [
      "Using TensorFlow backend.\n"
     ]
    }
   ],
   "source": [
    "import keras\n",
    "from keras.models import Sequential # Sequential is one of the main models in Keras, which is basically a sequentially stacked series of layers\n",
    "\n",
    "model = Sequential() # Initialize a Sequential model instance"
   ]
  },
  {
   "cell_type": "code",
   "execution_count": 5,
   "metadata": {},
   "outputs": [],
   "source": [
    "# this helps to balance the data imbalance\n",
    "class_weight = {0:1.,\n",
    "               1:3.}\n",
    "from keras.layers import Dense\n",
    "model.add(Dense(units=64,activation='sigmoid',input_dim=150528))\n",
    "# model.add(Dense(units=64,activation='relu',input_dim=512))\n",
    "#keras.layers.Dropout(0.7, noise_shape=None, seed=None)\n",
    "#model.add(Dense(units=32,activation='sigmoid',input_dim=224*224*3))\n",
    "model.add(Dense(units=32,activation='relu',input_dim=64))\n",
    "#model.add(keras.layers.Dropout(0.5, noise_shape=None, seed=None))\n",
    "#model.add(Dense(units=16, activation='sigmoid'))\n",
    "model.add(Dense(units=1, activation='sigmoid',input_dim = 32))"
   ]
  },
  {
   "cell_type": "code",
   "execution_count": 6,
   "metadata": {},
   "outputs": [],
   "source": [
    "model.compile(loss=keras.losses.binary_crossentropy, optimizer=keras.optimizers.SGD(lr=0.001))"
   ]
  },
  {
   "cell_type": "code",
   "execution_count": 7,
   "metadata": {},
   "outputs": [
    {
     "name": "stdout",
     "output_type": "stream",
     "text": [
      "(576, 150528)\n",
      "(32, 150528)\n",
      "(33, 150528)\n",
      "Train on 576 samples, validate on 32 samples\n",
      "Epoch 1/20\n",
      "576/576 [==============================] - 3s 5ms/step - loss: 1.0504 - val_loss: 0.8406\n",
      "Epoch 2/20\n",
      "576/576 [==============================] - 2s 4ms/step - loss: 1.0362 - val_loss: 0.7951\n",
      "Epoch 3/20\n",
      "576/576 [==============================] - 2s 4ms/step - loss: 1.0233 - val_loss: 0.7772\n",
      "Epoch 4/20\n",
      "576/576 [==============================] - 2s 3ms/step - loss: 1.0163 - val_loss: 0.7624\n",
      "Epoch 5/20\n",
      "576/576 [==============================] - 2s 3ms/step - loss: 1.0112 - val_loss: 0.7508\n",
      "Epoch 6/20\n",
      "576/576 [==============================] - 2s 4ms/step - loss: 1.0074 - val_loss: 0.7417\n",
      "Epoch 7/20\n",
      "576/576 [==============================] - 2s 4ms/step - loss: 1.0043 - val_loss: 0.7333\n",
      "Epoch 8/20\n",
      "576/576 [==============================] - 2s 4ms/step - loss: 1.0017 - val_loss: 0.7258\n",
      "Epoch 9/20\n",
      "576/576 [==============================] - 3s 4ms/step - loss: 0.9995 - val_loss: 0.7189\n",
      "Epoch 10/20\n",
      "576/576 [==============================] - 2s 4ms/step - loss: 0.9976 - val_loss: 0.7126\n",
      "Epoch 11/20\n",
      "576/576 [==============================] - 3s 5ms/step - loss: 0.9959 - val_loss: 0.7070\n",
      "Epoch 12/20\n",
      "576/576 [==============================] - 2s 4ms/step - loss: 0.9943 - val_loss: 0.7017\n",
      "Epoch 13/20\n",
      "576/576 [==============================] - 3s 5ms/step - loss: 0.9932 - val_loss: 0.6969\n",
      "Epoch 14/20\n",
      "576/576 [==============================] - 2s 4ms/step - loss: 0.9921 - val_loss: 0.6926\n",
      "Epoch 15/20\n",
      "576/576 [==============================] - 2s 4ms/step - loss: 0.9911 - val_loss: 0.7024\n",
      "Epoch 16/20\n",
      "576/576 [==============================] - 2s 4ms/step - loss: 0.9940 - val_loss: 0.6997\n",
      "Epoch 17/20\n",
      "576/576 [==============================] - 2s 4ms/step - loss: 0.9926 - val_loss: 0.6941\n",
      "Epoch 18/20\n",
      "576/576 [==============================] - 2s 4ms/step - loss: 0.9913 - val_loss: 0.6891\n",
      "Epoch 19/20\n",
      "576/576 [==============================] - 2s 4ms/step - loss: 0.9902 - val_loss: 0.6846\n",
      "Epoch 20/20\n",
      "576/576 [==============================] - 2s 4ms/step - loss: 0.9895 - val_loss: 0.6805\n"
     ]
    }
   ],
   "source": [
    "X_train_flat = X_train.reshape((-1, 224*224*3)) # -1 means letting NumPy to figure this axis out automatically\n",
    "X_val_flat = X_val.reshape((-1, 224*224*3))\n",
    "X_test_flat = X_test.reshape((-1, 224*224*3))\n",
    "\n",
    "print(X_train_flat.shape)\n",
    "print(X_val_flat.shape)\n",
    "print(X_test_flat.shape)\n",
    "from keras.callbacks import EarlyStopping\n",
    "early_stopping = EarlyStopping(patience=50)\n",
    "# Then use fit() to actually train our model\n",
    "# epochs is basically how many iterations we want for the update process. The model needs some time to reach the optimal state!\n",
    "# batch_size is how many images we use each time to estimate the gradient. Remember that the more we use the more accurate each update will be, but it will also be slower\n",
    "#print(labels)\n",
    "history = model.fit(X_train_flat, y_train, epochs=20, batch_size=32, validation_data=(X_val_flat, y_val),shuffle=True,class_weight=class_weight,callbacks=[early_stopping])"
   ]
  },
  {
   "cell_type": "code",
   "execution_count": 12,
   "metadata": {},
   "outputs": [
    {
     "name": "stdout",
     "output_type": "stream",
     "text": [
      "33/33 [==============================] - 0s 2ms/step\n",
      "The test accuracy is: 0.6802296746860851\n",
      "The predicted probabilities are: [[0.48968467]\n",
      " [0.48968467]\n",
      " [0.48968467]\n",
      " [0.48968467]\n",
      " [0.48968467]\n",
      " [0.48968467]\n",
      " [0.48968467]\n",
      " [0.48968467]\n",
      " [0.48968467]\n",
      " [0.48968467]\n",
      " [0.48968467]\n",
      " [0.48968467]\n",
      " [0.48968467]\n",
      " [0.48968467]\n",
      " [0.48968467]\n",
      " [0.48968467]\n",
      " [0.48968467]\n",
      " [0.48968467]\n",
      " [0.48968467]\n",
      " [0.48968467]\n",
      " [0.48968467]\n",
      " [0.48968467]\n",
      " [0.48968467]\n",
      " [0.48968467]\n",
      " [0.48968467]\n",
      " [0.48968467]\n",
      " [0.48968467]\n",
      " [0.48968467]\n",
      " [0.48968467]\n",
      " [0.48968467]\n",
      " [0.48968467]\n",
      " [0.48968467]\n",
      " [0.48968467]]\n",
      "The predicted class labels are: [[0]\n",
      " [0]\n",
      " [0]\n",
      " [0]\n",
      " [0]\n",
      " [0]\n",
      " [0]\n",
      " [0]\n",
      " [0]\n",
      " [0]\n",
      " [0]\n",
      " [0]\n",
      " [0]\n",
      " [0]\n",
      " [0]\n",
      " [0]\n",
      " [0]\n",
      " [0]\n",
      " [0]\n",
      " [0]\n",
      " [0]\n",
      " [0]\n",
      " [0]\n",
      " [0]\n",
      " [0]\n",
      " [0]\n",
      " [0]\n",
      " [0]\n",
      " [0]\n",
      " [0]\n",
      " [0]\n",
      " [0]\n",
      " [0]]\n"
     ]
    },
    {
     "data": {
      "image/png": "[encoded data removed]",
      "text/plain": [
       "<Figure size 432x288 with 1 Axes>"
      ]
     },
     "metadata": {
      "needs_background": "light"
     },
     "output_type": "display_data"
    }
   ],
   "source": [
    "acc = model.evaluate(X_test_flat, y_test)\n",
    "print('The test accuracy is: {}'.format(acc))\n",
    "\n",
    "# And make predictions\n",
    "prob = model.predict(X_test_flat) # These are probabilities, and we want to convert them to class labels\n",
    "                #print(prob)\n",
    "label = np.array(prob > 0.5, dtype=int)\n",
    "            \n",
    "            #evaluate_acc(model)\n",
    "print('The predicted probabilities are: {}'.format(prob))\n",
    "print('The predicted class labels are: {}'.format(label))\n",
    "plt.plot(history.history['loss'])\n",
    "plt.plot(history.history['val_loss'])\n",
    "plt.title('Model_loss')\n",
    "plt.ylabel('loss')\n",
    "plt.xlabel('Epoch')\n",
    "plt.legend(['Train','Val'],loc='upper left')\n",
    "plt.show()\n",
    "# plt.plot(history.history['acc'])\n",
    "# plt.plot(history.history['val_acc'])\n",
    "# plt.title('Accuracy')\n",
    "# plt.ylabel('acc')\n",
    "# plt.xlabel('Epoch')\n",
    "# plt.legend(['Train','Val'],loc='upper left')\n",
    "# plt.show()"
   ]
  },
  {
   "cell_type": "code",
   "execution_count": null,
   "metadata": {},
   "outputs": [],
   "source": []
  }
 ],
 "metadata": {
  "kernelspec": {
   "display_name": "Python 3",
   "language": "python",
   "name": "python3"
  },
  "language_info": {
   "codemirror_mode": {
    "name": "ipython",
    "version": 3
   },
   "file_extension": ".py",
   "mimetype": "text/x-python",
   "name": "python",
   "nbconvert_exporter": "python",
   "pygments_lexer": "ipython3",
   "version": "3.6.8"
  }
 },
 "nbformat": 4,
 "nbformat_minor": 2
}
